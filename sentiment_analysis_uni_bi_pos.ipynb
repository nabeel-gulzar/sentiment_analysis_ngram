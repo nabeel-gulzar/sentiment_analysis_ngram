{
  "nbformat": 4,
  "nbformat_minor": 0,
  "metadata": {
    "kernelspec": {
      "display_name": "Python 3",
      "language": "python",
      "name": "python3"
    },
    "language_info": {
      "codemirror_mode": {
        "name": "ipython",
        "version": 3
      },
      "file_extension": ".py",
      "mimetype": "text/x-python",
      "name": "python",
      "nbconvert_exporter": "python",
      "pygments_lexer": "ipython3",
      "version": "3.7.0"
    },
    "colab": {
      "name": "sentiment_analysis_uni_bi_pos.ipynb",
      "provenance": [],
      "collapsed_sections": [],
      "toc_visible": true,
      "include_colab_link": true
    }
  },
  "cells": [
    {
      "cell_type": "markdown",
      "metadata": {
        "id": "view-in-github",
        "colab_type": "text"
      },
      "source": [
        "<a href=\"https://colab.research.google.com/github/nabeel-gulzar/sentiment_analysis_ngram/blob/main/sentiment_analysis_uni_bi_pos.ipynb\" target=\"_parent\"><img src=\"https://colab.research.google.com/assets/colab-badge.svg\" alt=\"Open In Colab\"/></a>"
      ]
    },
    {
      "cell_type": "markdown",
      "metadata": {
        "id": "GdlP1EKJ4V20"
      },
      "source": [
        "# Sentiment Analysis\n",
        "[Twitter](https://twitter.com/) is a popular microblog service where people can post information and opinions on any topic. For this assignment, you will use tweets about Apple corporation that were extracted from a Twitter dataset created by Sanders Analytics. You can also use the [Twitter api](https://developer.twitter.com/en/docs) for extracting tweets\n",
        "to create your own dataset.\n",
        "\n",
        "We will divide this task into the following two sub tasks:\n",
        "<ul>\n",
        "<li>The first sub task is binary sentiment classification, for this you will use the  twitter-sanders-apple2.csv file that contains 479 tweets. It has two categories: \n",
        "    <ul>\n",
        "        <li>Pos: Tweets that express a positive or favorable sentiment (Count=163)</li>\n",
        "        <li>Neg: Tweets that express a negative or unfavorable sentiment (Count=316)</li>\n",
        "    </ul>\n",
        "</li>\n",
        "<br><br>    \n",
        "<li>The second sub task is binary sentiment classification, for this you will use the  file twitter-sanders-apple3.csv contains 988 tweets. It has three categories: \n",
        "    <ul>\n",
        "        <li>Pos: Tweets that express a positive or favorable sentiment (Count=163)</li>\n",
        "        <li>Neg: Tweets that express a negative or unfavorable sentiment (Count=316)</li>\n",
        "        <li>Neutral: tweets that do not express a sentiment (Count=509)</li>\n",
        "    </ul>\n",
        "</li>\n",
        "</ul>\n"
      ]
    },
    {
      "cell_type": "code",
      "metadata": {
        "colab": {
          "base_uri": "https://localhost:8080/"
        },
        "id": "KKjKkG3x4V23",
        "outputId": "7b941ca8-718f-4d38-ffe4-02495871e726"
      },
      "source": [
        "from sklearn.metrics import confusion_matrix\n",
        "from sklearn.metrics import classification_report\n",
        "from sklearn.model_selection import train_test_split\n",
        "from sklearn.naive_bayes import MultinomialNB\n",
        "from sklearn.linear_model import LogisticRegression\n",
        "import matplotlib.pyplot as plt\n",
        "import matplotlib.mlab as mlab\n",
        "import seaborn as sn\n",
        "import pandas as pd\n",
        "import numpy as np\n",
        "import csv\n",
        "import re\n",
        "import string\n",
        "import nltk\n",
        "nltk.download('punkt')\n",
        "from nltk.tokenize import word_tokenize\n",
        "from nltk.util import ngrams\n",
        "from nltk import pos_tag"
      ],
      "execution_count": null,
      "outputs": [
        {
          "output_type": "stream",
          "text": [
            "[nltk_data] Downloading package punkt to /root/nltk_data...\n",
            "[nltk_data]   Package punkt is already up-to-date!\n"
          ],
          "name": "stdout"
        }
      ]
    },
    {
      "cell_type": "markdown",
      "metadata": {
        "id": "OYW8Cjbh4V24"
      },
      "source": [
        "### Step 1: Load the data\n",
        "For this you can use python built in file reader to load the data, you will have to split each row to create list of Tweets(X) and list of sentiment Labels(Y). An alternate option is to use [Pandas](https://pandas.pydata.org/pandas-docs/stable/index.html) to load the csv file, then return the two cols in pandas dataframe as arrays."
      ]
    },
    {
      "cell_type": "code",
      "metadata": {
        "id": "hFY7IHQv4V24"
      },
      "source": [
        "\n",
        "def load_data(filename):\n",
        "  \"\"\"\n",
        "  Load data from file\n",
        "\n",
        "  Args:\n",
        "      filename : Name of the file from which the data is to be loaded\n",
        "  \n",
        "  Returns: tweet_X, sentiment_Y\n",
        "  tweet_X: list of tweets\n",
        "  sentiment_Y: list of sentiment lables correponding to each tweet\n",
        "  \"\"\"\n",
        "  tweets, labels = [], []\n",
        "  with open(filename) as csv_file:\n",
        "    csv_reader = csv.reader(csv_file, delimiter=',')\n",
        "    row_count = 0\n",
        "    for row in csv_reader:\n",
        "      if row_count == 0:\n",
        "        row_count += 1\n",
        "        continue\n",
        "      labels.append(row[0])\n",
        "      tweets.append(row[1])\n",
        "  return tweets, labels\n",
        "tweet_X_task1, sentiment_label_Y_task1=load_data(\"twitter-sanders-apple2.csv\")\n",
        "tweet_X_task2, sentiment_label_Y_task2=load_data(\"twitter-sanders-apple3.csv\")"
      ],
      "execution_count": null,
      "outputs": []
    },
    {
      "cell_type": "markdown",
      "metadata": {
        "id": "eqZpXhgb4V25"
      },
      "source": [
        "### Step 2: Preprocessing\n",
        "Before we move on to the actual classification section, there is some data cleaning up to be done. As a matter of fact, this step is critical, as it ultimately effects the learning process of your model. \n",
        "\n",
        "We will keep to simple preprocessing to make out task easier. Some of you might disagree with the preprocessing steps stated below, hence we wish to mention that choosing different preprocessing steps depend on the nature of task at hand and alos that there are always trade offs associated augmenting the orignal dataset.<br>\n",
        "\n",
        "You are required to perform the following preprocessing steps:<br>\n",
        "<i>(note that you must figure out the order of steps for ease of preprocessing yourself)</i><br>\n",
        "<ul>\n",
        "    <li><b>Remove all punctuations.</b><br> Although this makes things simple it is not always a good idea to remove punctuation for example in sentiment classification the use of exclaimation marks, can be used to intensify the sentiment of a given word or sentence hence might be useful, nevertheless it increases the vocabulary size hence we will not use it here. e.g. <blockquote>The opening ceremony was extreamly disappointing!!! #PSL5</blockquote>\n",
        "        Removing pucntutations also removes emojis which might also be helpful.\n",
        "    </li><br>\n",
        "    <li><b>Remove all html tags.</b><br> Mostly done for all tasks </li><br>\n",
        "    <li><b>Replace all @sometext with AT_TOKEN.</b><br>Since there will be lots of different usernames or words that can follow @ we will choose to ignore them as they dont have much sentiment information. Might be usefull for Named Entity Recognition </li>e.g. \n",
        "    <blockquote>@apple will be converted to AT_TOKEN</blockquote>\n",
        "    <li><b>Remove all # symbols.</b> We want to remove the # in #applesucks so that it is not treated differently that any other word in the sentence, this migh also help us to reduce our vocabulary size.</li><br>\n",
        "    <li><b>Convert the tweets to lower case text</b><br> Although all CAPS convey meaningful information for sentiment analysis we mostly convert text to lower case to reduce vocabulary size by reducing the number of variations. For example Car, cAr ,CAR, caR and car will now be treated as a single token car.</li><br>\n",
        "    <li><b>Tokenize the text</b><br></li><br>\n",
        "</ul>    \n",
        "    "
      ]
    },
    {
      "cell_type": "code",
      "metadata": {
        "id": "KeM4ulyz4V25"
      },
      "source": [
        "def preprocessing(data):\n",
        "  \"\"\"\n",
        "  Perform preprocessing of the tweets\n",
        "\n",
        "  Args:\n",
        "      data : list of tweets\n",
        "\n",
        "  Returns: data: preprocessed list of tweets\n",
        "  \"\"\"\n",
        "\n",
        "  reg_html = r'<[^>]+>'\n",
        "  wo_html_data = [re.sub(reg_html, ' ', data_point).lower() for data_point in data]\n",
        "\n",
        "  reg_punct = r'[!\"#$%&\\'()*+,-./:;<=>?\\\\^_`{|}~]'\n",
        "  wo_punct_data = [re.sub(reg_punct, ' ', data_point) for data_point in wo_html_data]\n",
        "\n",
        "  reg_username = r'@[^ ]+'\n",
        "  return [word_tokenize(re.sub(reg_username, 'AT_TOKEN', data_point)) for data_point in wo_punct_data]\n",
        "\n",
        "tweet_X_task1=preprocessing(tweet_X_task1)\n",
        "tweet_X_task2=preprocessing(tweet_X_task2)   "
      ],
      "execution_count": null,
      "outputs": []
    },
    {
      "cell_type": "markdown",
      "metadata": {
        "id": "-8_tBJUQ4V26"
      },
      "source": [
        "## Step 3: Feature Extraction\n",
        "For feature extraction you  will  need  a  way  of  mapping  from  sentences  (lists  of  strings)  to  featurevectors, a process called feature extraction or featurization.<br>\n",
        "For feature vectors we will explore four techniques:\n",
        "<ul>\n",
        "    <li><b>Unigram feature vector</b>\n",
        "        <br> This will be a sparse vector with length equal to the vocabulary size.   It is sparse because a sentence generally contains only 20-40 unique words, so only this many positions in the vector will be nonzero.\n",
        "</li><br>\n",
        "    <li><b>Bigram feature vector</b><br>\n",
        "    The number of unique bigrams will be significantly lower that unigrams, but this will also be sparse.</li><br>\n",
        "    <li><b>POS features</b>\n",
        "    Instead of using the words we will use POS tags, this will be generally not as sparse as unigram and bigram, you can use nltk to get POS tags for a sentence, here the featurevectors length will be equal to the total number of unique POS tags.</li><br>\n",
        "    <li><b>Complex features</b>\n",
        "    These can be a combination of unigrams and bigrams or any other complex feature that you can think of, we will explore these in later part of the assignment.</li><br>\n",
        "</ul>\n",
        "\n",
        "Firstly we need the extract the vocabulary for each of these different feature vectors.<br> \n",
        "For this task use [nltk](https://www.nltk.org/)\n"
      ]
    },
    {
      "cell_type": "code",
      "metadata": {
        "colab": {
          "base_uri": "https://localhost:8080/"
        },
        "id": "MiCrmaj-4V26",
        "outputId": "f9585882-8c46-417c-e422-6698335b0873"
      },
      "source": [
        "def vocabulary_unigram(data):\n",
        "    \"\"\"\n",
        "    Returns list of unique unigrams\n",
        "\n",
        "    Args:\n",
        "        data : list of tweets\n",
        "    \n",
        "    Returns: vocab_unigram: list of unique unigrams\n",
        "    \"\"\"\n",
        "    vocab = []\n",
        "    for grams in [ngrams(dp, 1) for dp in data]:\n",
        "      vocab += [\" \".join(gram) for gram in grams]\n",
        "    return list(set(vocab))\n",
        "\n",
        "def vocabulary_bigram(data):\n",
        "    \"\"\"\n",
        "    Returns list of unique bigrams\n",
        "\n",
        "    Args:\n",
        "        data : list of tweets\n",
        "    \n",
        "    Returns: vocab_unigram: list of unique bigrams\n",
        "    \"\"\"\n",
        "    vocab = []\n",
        "    for grams in [ngrams(dp, 2) for dp in data]:\n",
        "      vocab += [\" \".join(gram) for gram in grams]\n",
        "    return list(set(vocab))\n",
        "\n",
        "def vocabulary_POS(data):\n",
        "    \"\"\"\n",
        "    Returns list of unique POS tags\n",
        "\n",
        "    Args:\n",
        "        data : list of tweets\n",
        "    \n",
        "    Returns: vocab_unigram: list of unique POS tags\n",
        "    \"\"\"\n",
        "    nltk.download('averaged_perceptron_tagger')\n",
        "    pos_tags = set()\n",
        "    for sample in data:\n",
        "      for word, tag in pos_tag(sample):\n",
        "        pos_tags.add(tag)\n",
        "    return list(pos_tags)\n",
        "\n",
        "vocab_unigram_task1=vocabulary_unigram(tweet_X_task1)\n",
        "vocab_bigram_task1=vocabulary_bigram(tweet_X_task1)\n",
        "vocab_pos_tag_task1=vocabulary_POS(tweet_X_task1)\n",
        "\n",
        "vocab_unigram_task2=vocabulary_unigram(tweet_X_task2)\n",
        "vocab_bigram_task2=vocabulary_bigram(tweet_X_task2)\n",
        "vocab_pos_tag_task2=vocabulary_POS(tweet_X_task2)"
      ],
      "execution_count": null,
      "outputs": [
        {
          "output_type": "stream",
          "text": [
            "[nltk_data] Downloading package averaged_perceptron_tagger to\n",
            "[nltk_data]     /root/nltk_data...\n",
            "[nltk_data]   Unzipping taggers/averaged_perceptron_tagger.zip.\n",
            "[nltk_data] Downloading package averaged_perceptron_tagger to\n",
            "[nltk_data]     /root/nltk_data...\n",
            "[nltk_data]   Package averaged_perceptron_tagger is already up-to-\n",
            "[nltk_data]       date!\n"
          ],
          "name": "stdout"
        }
      ]
    },
    {
      "cell_type": "code",
      "metadata": {
        "colab": {
          "base_uri": "https://localhost:8080/"
        },
        "id": "6nagPyPdDGGs",
        "outputId": "9448b882-1280-4d47-cfdf-a984fbd4b9ef"
      },
      "source": [
        "print(len(vocab_unigram_task1))\n",
        "print(len(vocab_bigram_task1))\n",
        "print(len(vocab_pos_tag_task1))\n",
        "\n",
        "print(len(vocab_unigram_task2))\n",
        "print(len(vocab_bigram_task2))\n",
        "print(len(vocab_pos_tag_task2))"
      ],
      "execution_count": null,
      "outputs": [
        {
          "output_type": "stream",
          "text": [
            "1885\n",
            "5715\n",
            "32\n",
            "3141\n",
            "10313\n",
            "32\n"
          ],
          "name": "stdout"
        }
      ]
    },
    {
      "cell_type": "markdown",
      "metadata": {
        "id": "2NfmJ40t4V27"
      },
      "source": [
        "### Creating the feature vector\n",
        "The feature vector that is to be created is in the following format:e.g.\n",
        "<blockquote>{'simplistic': False, 'silly': True, 'and': True, 'tedious': False, 'its': False, 'so': True, 'laddish': False, 'juvenile': False, 'only': False, 'teenage': False, 'boys': False, 'could': False, 'possibly': False, 'find': False, 'it': False, 'funny': False, 'exploitative': False, 'largely': False, 'devoid': False}</blockquote><br>\n",
        "Instructions on how to make the feature vectors:\n",
        "<ul>\n",
        "    <li><b>For each tweet</b> the feature vector to be constructed will be equal to the <b>size of the vocabulary</b>.</li>\n",
        "    <li>The feature vector is a dictionary with <b>word and boolean pairs</b>, here the boolean will be <b>true</b> if the specific word exists in the tweet otherwise it will be <b>false</b>.</li>\n",
        "    \n",
        "</ul>\n"
      ]
    },
    {
      "cell_type": "code",
      "metadata": {
        "id": "JsysqIvR4V28"
      },
      "source": [
        "def features_unigram(data,vocab):\n",
        "    \"\"\"\n",
        "    Returns list of feature vectors\n",
        "\n",
        "    Args:\n",
        "        data : list of tweets\n",
        "    \n",
        "    Returns: vocab_unigram: list of unique unigrams\n",
        "    \"\"\"\n",
        "\n",
        "    n = len(vocab)\n",
        "    features = np.zeros((len(data), n))\n",
        "\n",
        "    for datapoint_idx, datapoint in enumerate(data):\n",
        "      sample = set(datapoint)\n",
        "      for vocab_idx, v_word in enumerate(vocab):\n",
        "        if v_word in sample:\n",
        "          features[datapoint_idx][vocab_idx] = 1\n",
        "    return features\n",
        "\n",
        "def features_bigram(data,vocab):\n",
        "    \"\"\"\n",
        "    Returns list of unique bigrams\n",
        "\n",
        "    Args:\n",
        "        data : list of tweets\n",
        "    \n",
        "    Returns: vocab_unigram: list of unique bigrams\n",
        "    \"\"\"\n",
        "    n = len(vocab)\n",
        "    features = np.zeros((len(data), n))\n",
        "\n",
        "    for datapoint_idx, datapoint in enumerate(data):\n",
        "      sample = set([\" \".join(gram) for gram in ngrams(datapoint, 2)])\n",
        "      for vocab_idx, v_word in enumerate(vocab):\n",
        "        if v_word in sample:\n",
        "          features[datapoint_idx][vocab_idx] = 1\n",
        "\n",
        "    return features\n",
        "\n",
        "def features_POS(data,vocab):\n",
        "    \"\"\"\n",
        "    Returns list of unique POS tags\n",
        "\n",
        "    Args:\n",
        "        data : list of tweets\n",
        "    \n",
        "    Returns: vocab_unigram: list of unique POS tags\n",
        "    \"\"\"\n",
        "    n = len(vocab)\n",
        "    features = np.zeros((len(data), n))\n",
        "\n",
        "    for datapoint_idx, datapoint in enumerate(data):\n",
        "      sample = set([tag for _, tag in pos_tag(datapoint)])\n",
        "      for vocab_idx, v_item in enumerate(vocab):\n",
        "        if v_item in sample:\n",
        "          features[datapoint_idx][vocab_idx] = 1\n",
        "    return features\n",
        "\n",
        "\n",
        "task1_unigram_features=features_unigram(tweet_X_task1,vocab_unigram_task1)\n",
        "task1_bigram_features=features_bigram(tweet_X_task1,vocab_bigram_task1)\n",
        "task1_POS_features=features_POS(tweet_X_task1,vocab_pos_tag_task1)\n",
        "\n",
        "task2_unigram_features=features_unigram(tweet_X_task2,vocab_unigram_task2)\n",
        "task2_bigram_features=features_bigram(tweet_X_task2,vocab_bigram_task2)\n",
        "task2_POS_features=features_POS(tweet_X_task2,vocab_pos_tag_task2)"
      ],
      "execution_count": null,
      "outputs": []
    },
    {
      "cell_type": "code",
      "metadata": {
        "colab": {
          "base_uri": "https://localhost:8080/"
        },
        "id": "7xH0dzf2Ff_T",
        "outputId": "d7a440ea-988b-4000-ded2-e1bc9a9d1f8a"
      },
      "source": [
        "np.sum(task1_bigram_features, axis=1).mean()"
      ],
      "execution_count": null,
      "outputs": [
        {
          "output_type": "execute_result",
          "data": {
            "text/plain": [
              "17.022964509394573"
            ]
          },
          "metadata": {
            "tags": []
          },
          "execution_count": 7
        }
      ]
    },
    {
      "cell_type": "markdown",
      "metadata": {
        "id": "vIikdrh84V28"
      },
      "source": [
        "### Step 4: Test Train Split\n",
        "Test train split, use [sklearns test train split](https://scikit-learn.org/stable/modules/generated/sklearn.model_selection.train_test_split.html) to split the data into 80-20 ratio for training and testing. Here we are not using validation set as our dataset is too small.\n",
        "<blockquote>Note: The lists for labels are overwritten beacause each split should return the same labels</blockquote>"
      ]
    },
    {
      "cell_type": "code",
      "metadata": {
        "id": "wMLYGCA74V29"
      },
      "source": [
        "def test_train_split(featurevectors,labels):\n",
        "    \"\"\"\n",
        "    Returns test train split data\n",
        "\n",
        "    Args:\n",
        "        featurevectors : list of feature vectors\n",
        "    \n",
        "    Returns: feature_vector_train, feature_vector_test, label_train, label_test\n",
        "    \"\"\"\n",
        "    X_train, X_test, y_train, y_test = train_test_split(featurevectors, labels, test_size=0.2, random_state=50)\n",
        "    return X_train, X_test, y_train, y_test\n",
        "\n",
        "task1_unigram_features_train, task1_unigram_features_test, task1_label_train, task1_label_test=test_train_split(task1_unigram_features, sentiment_label_Y_task1)\n",
        "\n",
        "task1_bigram_features_train, task1_bigram_features_test, task1_label_train, task1_label_test=test_train_split(task1_bigram_features, sentiment_label_Y_task1)\n",
        "\n",
        "task1_POS_features_train, task1_POS_features_test, task1_label_train, task1_label_test=test_train_split(task1_POS_features, sentiment_label_Y_task1)\n",
        "\n",
        "\n",
        "task2_unigram_features_train, task2_unigram_features_test, task2_label_train, task2_label_test=test_train_split(task2_unigram_features, sentiment_label_Y_task2)\n",
        "\n",
        "task2_bigram_features_train, task2_bigram_features_test, task2_label_train, task2_label_test=test_train_split(task2_bigram_features, sentiment_label_Y_task2)\n",
        "\n",
        "task2_POS_features_train, task2_POS_features_test, task2_label_train, task2_label_test=test_train_split(task2_POS_features, sentiment_label_Y_task2)"
      ],
      "execution_count": null,
      "outputs": []
    },
    {
      "cell_type": "markdown",
      "metadata": {
        "id": "yRwahwEy4V2-"
      },
      "source": [
        "### Step 5: Modelling and Predictions "
      ]
    },
    {
      "cell_type": "markdown",
      "metadata": {
        "id": "4Y9MbYkm4V2-"
      },
      "source": [
        "#### Model 1: Niave Bayes\n",
        "For the purpose of classification we will use [Niave Bayes](https://scikit-learn.org/stable/modules/generated/sklearn.naive_bayes.MultinomialNB.html) from sklearn. Train the Niave Bayes algorithm on all featurevector variants of task 1 and task 2.<br>\n",
        "In order to compare and quantify the goodness of our model we will compute a [classification report](https://scikit-learn.org/stable/modules/generated/sklearn.metrics.classification_report.html). We will also create a [confusion matrix](https://scikit-learn.org/stable/modules/generated/sklearn.metrics.confusion_matrix.html) to see what mistakes the model might be making.\n",
        "\n",
        "First program the train_model and predictions function which are general functions that will be used later on."
      ]
    },
    {
      "cell_type": "code",
      "metadata": {
        "id": "YCp3BcF64V2_"
      },
      "source": [
        "def train_model(model,features,labels):\n",
        "    \"\"\"\n",
        "    Trains a Naive Bayes model \n",
        "\n",
        "    Args:\n",
        "        features : list of feature vectors or X\n",
        "        labels: targets or Y\n",
        "        model: Niave Bayes model that is to be trained\n",
        "    \n",
        "    Returns: trained model\n",
        "    \"\"\"\n",
        "    model.fit(features, labels)\n",
        "    return model"
      ],
      "execution_count": null,
      "outputs": []
    },
    {
      "cell_type": "code",
      "metadata": {
        "id": "PcOIdVHS4V2_"
      },
      "source": [
        "def predictions(model,features):\n",
        "    \"\"\"\n",
        "    Returns predictions from a trained model\n",
        "\n",
        "    Args:\n",
        "        features : list of feature vectors or X\n",
        "        model: Niave Bayes model that is to be trained\n",
        "    \n",
        "    Returns: prediction list\n",
        "    \"\"\"\n",
        "    return model.predict(features)"
      ],
      "execution_count": null,
      "outputs": []
    },
    {
      "cell_type": "markdown",
      "metadata": {
        "id": "WxxHJ8gR4V2_"
      },
      "source": [
        "##### Using the above functions train different models for different feature vectors and  obtain the models predictions for test set."
      ]
    },
    {
      "cell_type": "code",
      "metadata": {
        "id": "R73uinai4V2_"
      },
      "source": [
        "#train model on task1_unigram_features_train\n",
        "###__________Code_Here________________###\n",
        "# task1_unigram_features_train, task1_unigram_features_test, task1_label_train, task1_label_test\n",
        "clf = MultinomialNB()\n",
        "model = train_model(clf, task1_unigram_features_train, task1_label_train)\n",
        "\n",
        "###___________________________________###"
      ],
      "execution_count": null,
      "outputs": []
    },
    {
      "cell_type": "code",
      "metadata": {
        "id": "ms14v-oz4V3A",
        "colab": {
          "base_uri": "https://localhost:8080/",
          "height": 429
        },
        "outputId": "97c198d8-e929-41dd-8a25-aca43900b2a0"
      },
      "source": [
        "#Classification report for task1_unigram_features_train\n",
        "###__________Code_Here________________###\n",
        "pred = predictions(model, task1_unigram_features_test)\n",
        "###___________________________________###\n",
        "\n",
        "print(classification_report(task1_label_test, pred, labels=[\"Pos\", \"Neg\"]))\n",
        "cm=confusion_matrix(task1_label_test,pred)\n",
        "cm = pd.DataFrame(cm, ['Pos','Neg'], ['Pos','Neg'])# matrix,names row,names col,\n",
        "# plt.figure(figsize=(10,7))\n",
        "sn.set(font_scale=1.5) # for label size\n",
        "sn.heatmap(cm, annot=True, annot_kws={\"size\": 11}, fmt=\"d\") # font size\n",
        "plt.show()"
      ],
      "execution_count": null,
      "outputs": [
        {
          "output_type": "stream",
          "text": [
            "              precision    recall  f1-score   support\n",
            "\n",
            "         Pos       0.79      0.58      0.67        38\n",
            "         Neg       0.76      0.90      0.83        58\n",
            "\n",
            "    accuracy                           0.77        96\n",
            "   macro avg       0.78      0.74      0.75        96\n",
            "weighted avg       0.77      0.77      0.76        96\n",
            "\n"
          ],
          "name": "stdout"
        },
        {
          "output_type": "display_data",
          "data": {
            "image/png": "[encoded data removed]",
            "text/plain": [
              "<Figure size 432x288 with 2 Axes>"
            ]
          },
          "metadata": {
            "tags": []
          }
        }
      ]
    },
    {
      "cell_type": "code",
      "metadata": {
        "id": "4QZJQev_4V3A"
      },
      "source": [
        "#train model on task1_bigram_features_train\n",
        "###__________Code_Here________________###\n",
        "# task1_bigram_features_train, task1_bigram_features_test, task1_label_train, task1_label_test\n",
        "model = MultinomialNB()\n",
        "model = train_model(model, task1_bigram_features_train, task1_label_train)\n",
        "\n",
        "###___________________________________###"
      ],
      "execution_count": null,
      "outputs": []
    },
    {
      "cell_type": "code",
      "metadata": {
        "id": "nRMGfR9o4V3A",
        "colab": {
          "base_uri": "https://localhost:8080/",
          "height": 429
        },
        "outputId": "bf64434b-705e-4e0c-c798-93c237a96a30"
      },
      "source": [
        "#Classification report and confusion matrix for task1_bigram_features_train\n",
        "###__________Code_Here________________###\n",
        "pred=predictions(model, task1_bigram_features_test)\n",
        "###___________________________________###\n",
        "\n",
        "print(classification_report(task1_label_test, pred, labels=[\"Pos\", \"Neg\"]))\n",
        "cm=confusion_matrix(task1_label_test,pred)\n",
        "cm = pd.DataFrame(cm, ['Pos','Neg'], ['Pos','Neg'])# matrix,names row,names col,\n",
        "# plt.figure(figsize=(10,7))\n",
        "sn.set(font_scale=1.5) # for label size\n",
        "sn.heatmap(cm, annot=True, annot_kws={\"size\": 11}, fmt=\"d\") # font size\n",
        "plt.show()"
      ],
      "execution_count": null,
      "outputs": [
        {
          "output_type": "stream",
          "text": [
            "              precision    recall  f1-score   support\n",
            "\n",
            "         Pos       0.48      0.82      0.61        38\n",
            "         Neg       0.78      0.43      0.56        58\n",
            "\n",
            "    accuracy                           0.58        96\n",
            "   macro avg       0.63      0.62      0.58        96\n",
            "weighted avg       0.66      0.58      0.58        96\n",
            "\n"
          ],
          "name": "stdout"
        },
        {
          "output_type": "display_data",
          "data": {
            "image/png": "[encoded data removed]",
            "text/plain": [
              "<Figure size 432x288 with 2 Axes>"
            ]
          },
          "metadata": {
            "tags": []
          }
        }
      ]
    },
    {
      "cell_type": "code",
      "metadata": {
        "id": "XM_MiE8J4V3A"
      },
      "source": [
        "#train model on task1_POS_features_train\n",
        "###__________Code_Here________________###\n",
        "# task1_POS_features_train, task1_POS_features_test, task1_label_train, task1_label_test\n",
        "model = MultinomialNB()\n",
        "model = train_model(model, task1_POS_features_train, task1_label_train)\n",
        "\n",
        "###___________________________________###"
      ],
      "execution_count": null,
      "outputs": []
    },
    {
      "cell_type": "code",
      "metadata": {
        "id": "0-4uQGMq4V3B",
        "colab": {
          "base_uri": "https://localhost:8080/",
          "height": 429
        },
        "outputId": "f1e3cf5f-fb82-42c5-948d-ccd30126c23f"
      },
      "source": [
        "#Classification report for task1_POS_features\n",
        "###__________Code_Here________________###\n",
        "pred=predictions(model, task1_POS_features_test)\n",
        "###___________________________________###\n",
        "\n",
        "print(classification_report(task1_label_test, pred, labels=[\"Pos\", \"Neg\"]))\n",
        "cm=confusion_matrix(task1_label_test,pred)\n",
        "cm = pd.DataFrame(cm, ['Pos','Neg'], ['Pos','Neg'])# matrix,names row,names col,\n",
        "# plt.figure(figsize=(10,7))\n",
        "sn.set(font_scale=1.5) # for label size\n",
        "sn.heatmap(cm, annot=True, annot_kws={\"size\": 11}, fmt=\"d\") # font size\n",
        "plt.show()"
      ],
      "execution_count": null,
      "outputs": [
        {
          "output_type": "stream",
          "text": [
            "              precision    recall  f1-score   support\n",
            "\n",
            "         Pos       0.67      0.11      0.18        38\n",
            "         Neg       0.62      0.97      0.76        58\n",
            "\n",
            "    accuracy                           0.62        96\n",
            "   macro avg       0.64      0.54      0.47        96\n",
            "weighted avg       0.64      0.62      0.53        96\n",
            "\n"
          ],
          "name": "stdout"
        },
        {
          "output_type": "display_data",
          "data": {
            "image/png": "[encoded data removed]",
            "text/plain": [
              "<Figure size 432x288 with 2 Axes>"
            ]
          },
          "metadata": {
            "tags": []
          }
        }
      ]
    },
    {
      "cell_type": "markdown",
      "metadata": {
        "id": "eFQZE7tC4V3B"
      },
      "source": [
        "#### Compare how performance changes for different feature vectors for task1? "
      ]
    },
    {
      "cell_type": "code",
      "metadata": {
        "id": "sx8UzO8D4V3B"
      },
      "source": [
        "%%capture\n",
        "###______________Answer_Start_________###\n",
        "comparison = 'When we used unigram the f1 when scored was a little higher compared to when we used bigram. \\\n",
        "              The reason for that might be the corpus size. As we are using a smaller corpus we are geting unigram \\\n",
        "              better than the bigram because bigram seems to work better with much larger corpus. \\\n",
        "              In case POS the f1 is similar to that in bigram. This seems to beacuse the kind of task we are trying \\\n",
        "              to do does not get much information from part of speach. It requires the actual word. So in this setting POS \\\n",
        "              is not a good choice.'\n",
        "###______________Answer_End_________###"
      ],
      "execution_count": null,
      "outputs": []
    },
    {
      "cell_type": "markdown",
      "metadata": {
        "id": "Yv1f8Gd54V3B"
      },
      "source": [
        "##### Repeat the above steps for task2"
      ]
    },
    {
      "cell_type": "code",
      "metadata": {
        "id": "hhUMVlb04V3B"
      },
      "source": [
        "#train model on task2_unigram_features_train\n",
        "###__________Code_Here________________###\n",
        "# task1_unigram_features_train, task1_unigram_features_test, task1_label_train, task1_label_test\n",
        "model = MultinomialNB()\n",
        "model = train_model(model, task2_unigram_features_train, task2_label_train)\n",
        "\n",
        "###___________________________________###"
      ],
      "execution_count": null,
      "outputs": []
    },
    {
      "cell_type": "code",
      "metadata": {
        "id": "e-bDM4Vq4V3C",
        "colab": {
          "base_uri": "https://localhost:8080/",
          "height": 453
        },
        "outputId": "1cef3bee-9124-4f7f-8e49-52ee53d0b340"
      },
      "source": [
        "#Classification report for task2_unigram_features\n",
        "###__________Code_Here________________###\n",
        "pred=predictions(model, task2_unigram_features_test)\n",
        "###___________________________________###\n",
        "print(classification_report(task2_label_test, pred, labels=[\"Pos\", \"Neg\",\"Neutral\"]))\n",
        "cm=confusion_matrix(task2_label_test,pred)\n",
        "cm = pd.DataFrame(cm, [\"Pos\",\"Neg\",\"Neutral\"], [\"Pos\",\"Neg\",\"Neutral\"])# matrix,names row,names col,\n",
        "# plt.figure(figsize=(10,7))\n",
        "sn.set(font_scale=1.5) # for label size\n",
        "sn.heatmap(cm, annot=True, annot_kws={\"size\": 11}, fmt=\"d\") # font size\n",
        "plt.show()"
      ],
      "execution_count": null,
      "outputs": [
        {
          "output_type": "stream",
          "text": [
            "              precision    recall  f1-score   support\n",
            "\n",
            "         Pos       0.70      0.23      0.35        30\n",
            "         Neg       0.57      0.86      0.68        58\n",
            "     Neutral       0.80      0.73      0.76       110\n",
            "\n",
            "    accuracy                           0.69       198\n",
            "   macro avg       0.69      0.61      0.60       198\n",
            "weighted avg       0.72      0.69      0.68       198\n",
            "\n"
          ],
          "name": "stdout"
        },
        {
          "output_type": "display_data",
          "data": {
            "image/png": "[encoded data removed]",
            "text/plain": [
              "<Figure size 432x288 with 2 Axes>"
            ]
          },
          "metadata": {
            "tags": []
          }
        }
      ]
    },
    {
      "cell_type": "code",
      "metadata": {
        "id": "CJ973Aph4V3C"
      },
      "source": [
        "#train model on task2_bigram_features_train\n",
        "###__________Code_Here________________###\n",
        "# task1_bigram_features_train, task1_bigram_features_test, task1_label_train, task1_label_test\n",
        "model = MultinomialNB()\n",
        "model = train_model(model, task2_bigram_features_train, task2_label_train)\n",
        "\n",
        "###___________________________________###"
      ],
      "execution_count": null,
      "outputs": []
    },
    {
      "cell_type": "code",
      "metadata": {
        "id": "X27tEntg4V3C",
        "colab": {
          "base_uri": "https://localhost:8080/",
          "height": 446
        },
        "outputId": "017160a9-ab60-4f6c-b682-1f86afb88f2d"
      },
      "source": [
        "#Classification report for task2_bigram_features\n",
        "###__________Code_Here________________###\n",
        "pred=predictions(model, task2_bigram_features_test)\n",
        "###___________________________________###\n",
        "\n",
        "print(classification_report(task2_label_test, pred, labels=[\"Pos\", \"Neg\",\"Neutral\"]))\n",
        "cm=confusion_matrix(task2_label_test,pred)\n",
        "cm = pd.DataFrame(cm, [\"Pos\",\"Neg\",\"Neutral\"], [\"Pos\",\"Neg\",\"Neutral\"])# matrix,names row,names col,\n",
        "# plt.figure(figsize=(10,7))\n",
        "sn.set(font_scale=1.5) # for label size\n",
        "sn.heatmap(cm, annot=True, annot_kws={\"size\": 11}, fmt=\"d\") # font size\n",
        "plt.show()"
      ],
      "execution_count": null,
      "outputs": [
        {
          "output_type": "stream",
          "text": [
            "              precision    recall  f1-score   support\n",
            "\n",
            "         Pos       0.29      0.53      0.37        30\n",
            "         Neg       0.60      0.59      0.59        58\n",
            "     Neutral       0.79      0.61      0.69       110\n",
            "\n",
            "    accuracy                           0.59       198\n",
            "   macro avg       0.56      0.58      0.55       198\n",
            "weighted avg       0.66      0.59      0.61       198\n",
            "\n"
          ],
          "name": "stdout"
        },
        {
          "output_type": "display_data",
          "data": {
            "image/png": "[encoded data removed]",
            "text/plain": [
              "<Figure size 432x288 with 2 Axes>"
            ]
          },
          "metadata": {
            "tags": []
          }
        }
      ]
    },
    {
      "cell_type": "code",
      "metadata": {
        "id": "-ViNEvf04V3C"
      },
      "source": [
        "#train model on task2_POS_features_train\n",
        "###__________Code_Here________________###\n",
        "# task2_POS_features_train, task2_POS_features_test, task2_label_train, task2_label_test\n",
        "model = MultinomialNB()\n",
        "model = train_model(model, task2_POS_features_train, task2_label_train)\n",
        "\n",
        "###___________________________________###"
      ],
      "execution_count": null,
      "outputs": []
    },
    {
      "cell_type": "code",
      "metadata": {
        "id": "cDGUedkv4V3C",
        "colab": {
          "base_uri": "https://localhost:8080/",
          "height": 446
        },
        "outputId": "3ed0a3c8-2532-4e4b-8013-32264cea315a"
      },
      "source": [
        "\n",
        "#Classification report for task2_POS_features\n",
        "###__________Code_Here________________###\n",
        "pred=predictions(model, task2_POS_features_test)\n",
        "###___________________________________###\n",
        "\n",
        "print(classification_report(task2_label_test, pred, labels=[\"Pos\", \"Neg\",\"Neutral\"]))\n",
        "cm=confusion_matrix(task2_label_test,pred)\n",
        "cm = pd.DataFrame(cm, [\"Pos\",\"Neg\",\"Neutral\"], [\"Pos\",\"Neg\",\"Neutral\"])# matrix,names row,names col,\n",
        "# plt.figure(figsize=(10,7))\n",
        "sn.set(font_scale=1.5) # for label size\n",
        "sn.heatmap(cm, annot=True, annot_kws={\"size\": 11}, fmt=\"d\") # font size\n",
        "plt.show()"
      ],
      "execution_count": null,
      "outputs": [
        {
          "output_type": "stream",
          "text": [
            "              precision    recall  f1-score   support\n",
            "\n",
            "         Pos       0.40      0.07      0.11        30\n",
            "         Neg       0.47      0.28      0.35        58\n",
            "     Neutral       0.60      0.87      0.71       110\n",
            "\n",
            "    accuracy                           0.58       198\n",
            "   macro avg       0.49      0.41      0.39       198\n",
            "weighted avg       0.53      0.58      0.52       198\n",
            "\n"
          ],
          "name": "stdout"
        },
        {
          "output_type": "display_data",
          "data": {
            "image/png": "[encoded data removed]",
            "text/plain": [
              "<Figure size 432x288 with 2 Axes>"
            ]
          },
          "metadata": {
            "tags": []
          }
        }
      ]
    },
    {
      "cell_type": "markdown",
      "metadata": {
        "id": "SM3jkw4B4V3C"
      },
      "source": [
        "#####  How does the addition of an extra class affect the learning of our algorithm? Which pairs of classes are most often confused? Why might that be? "
      ]
    },
    {
      "cell_type": "code",
      "metadata": {
        "id": "oBYky_Gl4V3D"
      },
      "source": [
        "%%capture\n",
        "###______________Answer_Start_________###\n",
        "comparison = 'When we used unigram the f1 when scored was a just a little higher compared to when we used bigram. \\\n",
        "              but the result of POS was significantly lower, meaning that the part of speach does not really play a part \\\n",
        "              in deciding the outcome here, which is the sentiment. Maybe if we combined the POS tag with n-gram we can get \\\n",
        "              the good results. \\\n",
        "              negative class is often confused as postive or neutral. The reason could be the presense of similar kind \\\n",
        "              of words in confised classes. Increasing the data might be helpful becasue using the current data the model \\\n",
        "              is unable to succesfully predict the sentiment. \\\n",
        "              Adding another class did not affect the training as the probablities are computed conditionally, given a \\\n",
        "              particular class. Although the count of samples with lable neutral is much larger but we are also multiplying \\\n",
        "              with the prior, which is the probabbility of the particular class.'\n",
        "###______________Answer_End_________###"
      ],
      "execution_count": null,
      "outputs": []
    },
    {
      "cell_type": "markdown",
      "metadata": {
        "id": "mSmj-9ww4V3D"
      },
      "source": [
        "### We can further create more complex features by combining different ngram features to  improve performance. We can also remove words that occur rarely in our dataset to reduce the size of our feature vectors. "
      ]
    },
    {
      "cell_type": "markdown",
      "metadata": {
        "id": "S6P68PVx4V3D"
      },
      "source": [
        "#### Model2: Logistic Regression\n",
        "We will now use [logistic regression](https://scikit-learn.org/stable/modules/generated/sklearn.linear_model.LogisticRegression.html) to explore the improvements stated above. To create complex feature vectors we will use [CountVectorizer](https://scikit-learn.org/stable/modules/generated/sklearn.feature_extraction.text.CountVectorizer.html) from sklearn.<br>\n",
        "We will play around with two parameters of CountVectorizer:\n",
        "<ul>\n",
        "    <li>min_df ( = 5): defines the minimum frequency of a word for it to be counted as a feature, in this case the word should have a frequency count of atleast 5.</li>\n",
        "    <li>ngram_range (= (2,2)): The ngram_range parameter is a tuple. It defines the minimum and maximum length of sequence of tokens considered. In this case, this length is 2. So, this will find sequence of 2 tokens like — ‘but the’, ‘wise man’ etc.</li>\n",
        "</ul>\n",
        "Use the ngram_range=(1,2) and min_df=5.\n",
        "\n",
        "Hint: See the fit and transform functions<br>\n",
        "\n",
        "    \n",
        "\n",
        "    "
      ]
    },
    {
      "cell_type": "code",
      "metadata": {
        "id": "0kci4jxH4V3D"
      },
      "source": [
        "from sklearn.feature_extraction.text import CountVectorizer"
      ],
      "execution_count": null,
      "outputs": []
    },
    {
      "cell_type": "code",
      "metadata": {
        "id": "GaN-l2sI4V3D"
      },
      "source": [
        "#create complex features\n",
        "###__________Code_Here________________###\n",
        "vectorizer = CountVectorizer(ngram_range=(1,2), min_df=5)\n",
        "task2_complex_features = vectorizer.fit_transform([\" \".join(t) for t in tweet_X_task2])\n",
        "task2_complex_features_train, task2_complex_features_test, task2_label_train, task2_label_test=test_train_split(task2_complex_features, sentiment_label_Y_task2)\n",
        "\n",
        "###___________________________________###"
      ],
      "execution_count": null,
      "outputs": []
    },
    {
      "cell_type": "code",
      "metadata": {
        "id": "8t4MH9IS4V3E"
      },
      "source": [
        "#train logistic regression model\n",
        "###__________Code_Here________________###\n",
        "model = LogisticRegression()\n",
        "model = train_model(model, task2_complex_features_train, task2_label_train)\n",
        "\n",
        "###___________________________________###"
      ],
      "execution_count": null,
      "outputs": []
    },
    {
      "cell_type": "code",
      "metadata": {
        "id": "bQ4APzNF4V3E",
        "colab": {
          "base_uri": "https://localhost:8080/",
          "height": 446
        },
        "outputId": "936bf537-b14d-4124-e0da-9e7e12717835"
      },
      "source": [
        "#train model on complex_feature\n",
        "###__________Code_Here________________###\n",
        "pred = predictions(model, task2_complex_features_test)\n",
        "###___________________________________###\n",
        "\n",
        "print(classification_report(task2_label_test, pred, labels=[\"Pos\", \"Neg\",\"Neutral\"]))\n",
        "cm=confusion_matrix(task2_label_test,pred)\n",
        "cm = pd.DataFrame(cm, [\"Pos\",\"Neg\",\"Neutral\"], [\"Pos\",\"Neg\",\"Neutral\"])# matrix,names row,names col,\n",
        "# plt.figure(figsize=(10,7))\n",
        "sn.set(font_scale=1.5) # for label size\n",
        "sn.heatmap(cm, annot=True, annot_kws={\"size\": 11}, fmt=\"d\") # font size\n",
        "plt.show()"
      ],
      "execution_count": null,
      "outputs": [
        {
          "output_type": "stream",
          "text": [
            "              precision    recall  f1-score   support\n",
            "\n",
            "         Pos       0.52      0.37      0.43        30\n",
            "         Neg       0.58      0.62      0.60        58\n",
            "     Neutral       0.72      0.75      0.74       110\n",
            "\n",
            "    accuracy                           0.66       198\n",
            "   macro avg       0.61      0.58      0.59       198\n",
            "weighted avg       0.65      0.66      0.65       198\n",
            "\n"
          ],
          "name": "stdout"
        },
        {
          "output_type": "display_data",
          "data": {
            "image/png": "[encoded data removed]",
            "text/plain": [
              "<Figure size 432x288 with 2 Axes>"
            ]
          },
          "metadata": {
            "tags": []
          }
        }
      ]
    },
    {
      "cell_type": "markdown",
      "metadata": {
        "id": "vz1IRoRO4V3E"
      },
      "source": [
        "#### You can play around with ngram_range and min_df to further improve performance. \n"
      ]
    },
    {
      "cell_type": "code",
      "metadata": {
        "id": "unsFxZyO4V3E"
      },
      "source": [
        ""
      ],
      "execution_count": null,
      "outputs": []
    }
  ]
}